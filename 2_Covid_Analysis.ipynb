{
  "nbformat": 4,
  "nbformat_minor": 0,
  "metadata": {
    "colab": {
      "name": "2. Covid_Analysis.ipynb",
      "provenance": [],
      "collapsed_sections": [],
      "authorship_tag": "ABX9TyNljibJSI/ShH++kqK9TnRE",
      "include_colab_link": true
    },
    "kernelspec": {
      "name": "python3",
      "display_name": "Python 3"
    },
    "language_info": {
      "name": "python"
    }
  },
  "cells": [
    {
      "cell_type": "markdown",
      "metadata": {
        "id": "view-in-github",
        "colab_type": "text"
      },
      "source": [
        "<a href=\"https://colab.research.google.com/github/sabaakram539/data_analysis_projects/blob/main/2_Covid_Analysis.ipynb\" target=\"_parent\"><img src=\"https://colab.research.google.com/assets/colab-badge.svg\" alt=\"Open In Colab\"/></a>"
      ]
    },
    {
      "cell_type": "markdown",
      "metadata": {
        "id": "xzcWjdEy5q0a"
      },
      "source": [
        "# Worldometer Covid Data Analysis\n",
        "We have taken the below mentioned csv data set from the kaggle. We will analyse the data using the pandas dataframe and matplotlib. Here we go. "
      ]
    },
    {
      "cell_type": "code",
      "metadata": {
        "id": "udF9BWq_6m7i"
      },
      "source": [
        "import pandas as pd\n",
        "import matplotlib.pyplot as plt"
      ],
      "execution_count": null,
      "outputs": []
    },
    {
      "cell_type": "code",
      "metadata": {
        "colab": {
          "base_uri": "https://localhost:8080/",
          "height": 224
        },
        "id": "7WGXsesC6vBl",
        "outputId": "077c5a5c-9332-46be-ef89-d6035fed3e4d"
      },
      "source": [
        "data=pd.read_csv('worldometer_coronavirus_summary_data.csv')\n",
        "data.head()"
      ],
      "execution_count": null,
      "outputs": [
        {
          "output_type": "execute_result",
          "data": {
            "text/html": [
              "<div>\n",
              "<style scoped>\n",
              "    .dataframe tbody tr th:only-of-type {\n",
              "        vertical-align: middle;\n",
              "    }\n",
              "\n",
              "    .dataframe tbody tr th {\n",
              "        vertical-align: top;\n",
              "    }\n",
              "\n",
              "    .dataframe thead th {\n",
              "        text-align: right;\n",
              "    }\n",
              "</style>\n",
              "<table border=\"1\" class=\"dataframe\">\n",
              "  <thead>\n",
              "    <tr style=\"text-align: right;\">\n",
              "      <th></th>\n",
              "      <th>country</th>\n",
              "      <th>continent</th>\n",
              "      <th>total_confirmed</th>\n",
              "      <th>total_deaths</th>\n",
              "      <th>total_recovered</th>\n",
              "      <th>active_cases</th>\n",
              "      <th>serious_or_critical</th>\n",
              "      <th>total_cases_per_1m_population</th>\n",
              "      <th>total_deaths_per_1m_population</th>\n",
              "      <th>total_tests</th>\n",
              "      <th>total_tests_per_1m_population</th>\n",
              "      <th>population</th>\n",
              "    </tr>\n",
              "  </thead>\n",
              "  <tbody>\n",
              "    <tr>\n",
              "      <th>0</th>\n",
              "      <td>Afghanistan</td>\n",
              "      <td>Asia</td>\n",
              "      <td>147473</td>\n",
              "      <td>6736.0</td>\n",
              "      <td>98073.0</td>\n",
              "      <td>42664.0</td>\n",
              "      <td>1124.0</td>\n",
              "      <td>3699</td>\n",
              "      <td>169.0</td>\n",
              "      <td>707244.0</td>\n",
              "      <td>17739.0</td>\n",
              "      <td>39869084</td>\n",
              "    </tr>\n",
              "    <tr>\n",
              "      <th>1</th>\n",
              "      <td>Albania</td>\n",
              "      <td>Europe</td>\n",
              "      <td>133081</td>\n",
              "      <td>2457.0</td>\n",
              "      <td>130222.0</td>\n",
              "      <td>402.0</td>\n",
              "      <td>3.0</td>\n",
              "      <td>46299</td>\n",
              "      <td>855.0</td>\n",
              "      <td>916777.0</td>\n",
              "      <td>318945.0</td>\n",
              "      <td>2874408</td>\n",
              "    </tr>\n",
              "    <tr>\n",
              "      <th>2</th>\n",
              "      <td>Algeria</td>\n",
              "      <td>Africa</td>\n",
              "      <td>171392</td>\n",
              "      <td>4254.0</td>\n",
              "      <td>115276.0</td>\n",
              "      <td>51862.0</td>\n",
              "      <td>47.0</td>\n",
              "      <td>3834</td>\n",
              "      <td>95.0</td>\n",
              "      <td>230861.0</td>\n",
              "      <td>5164.0</td>\n",
              "      <td>44701619</td>\n",
              "    </tr>\n",
              "    <tr>\n",
              "      <th>3</th>\n",
              "      <td>Andorra</td>\n",
              "      <td>Europe</td>\n",
              "      <td>14678</td>\n",
              "      <td>128.0</td>\n",
              "      <td>14210.0</td>\n",
              "      <td>340.0</td>\n",
              "      <td>NaN</td>\n",
              "      <td>189643</td>\n",
              "      <td>1654.0</td>\n",
              "      <td>193595.0</td>\n",
              "      <td>2501292.0</td>\n",
              "      <td>77398</td>\n",
              "    </tr>\n",
              "    <tr>\n",
              "      <th>4</th>\n",
              "      <td>Angola</td>\n",
              "      <td>Africa</td>\n",
              "      <td>42646</td>\n",
              "      <td>1008.0</td>\n",
              "      <td>36708.0</td>\n",
              "      <td>4930.0</td>\n",
              "      <td>8.0</td>\n",
              "      <td>1256</td>\n",
              "      <td>30.0</td>\n",
              "      <td>681443.0</td>\n",
              "      <td>20065.0</td>\n",
              "      <td>33961015</td>\n",
              "    </tr>\n",
              "  </tbody>\n",
              "</table>\n",
              "</div>"
            ],
            "text/plain": [
              "       country continent  ...  total_tests_per_1m_population  population\n",
              "0  Afghanistan      Asia  ...                        17739.0    39869084\n",
              "1      Albania    Europe  ...                       318945.0     2874408\n",
              "2      Algeria    Africa  ...                         5164.0    44701619\n",
              "3      Andorra    Europe  ...                      2501292.0       77398\n",
              "4       Angola    Africa  ...                        20065.0    33961015\n",
              "\n",
              "[5 rows x 12 columns]"
            ]
          },
          "metadata": {
            "tags": []
          },
          "execution_count": 64
        }
      ]
    },
    {
      "cell_type": "code",
      "metadata": {
        "id": "rzOK2KeQ7GdV"
      },
      "source": [
        "data.rename(columns={'serious_or_critical':'critical','total_cases_per_1m_population':'cases_per_1m'\n",
        ",'total_deaths_per_1m_population':'deaths_per_1m','total_tests_per_1m_population':'tests_per_1m'},inplace=True)"
      ],
      "execution_count": null,
      "outputs": []
    },
    {
      "cell_type": "markdown",
      "metadata": {
        "id": "vLy11gPL_FEn"
      },
      "source": [
        "## Preprocessing\n",
        "> Handling null values"
      ]
    },
    {
      "cell_type": "code",
      "metadata": {
        "colab": {
          "base_uri": "https://localhost:8080/",
          "height": 224
        },
        "id": "M5uscg__8XY2",
        "outputId": "7323099e-37fe-492d-c6c6-1e615ff78b40"
      },
      "source": [
        "data.head()"
      ],
      "execution_count": null,
      "outputs": [
        {
          "output_type": "execute_result",
          "data": {
            "text/html": [
              "<div>\n",
              "<style scoped>\n",
              "    .dataframe tbody tr th:only-of-type {\n",
              "        vertical-align: middle;\n",
              "    }\n",
              "\n",
              "    .dataframe tbody tr th {\n",
              "        vertical-align: top;\n",
              "    }\n",
              "\n",
              "    .dataframe thead th {\n",
              "        text-align: right;\n",
              "    }\n",
              "</style>\n",
              "<table border=\"1\" class=\"dataframe\">\n",
              "  <thead>\n",
              "    <tr style=\"text-align: right;\">\n",
              "      <th></th>\n",
              "      <th>country</th>\n",
              "      <th>continent</th>\n",
              "      <th>total_confirmed</th>\n",
              "      <th>total_deaths</th>\n",
              "      <th>total_recovered</th>\n",
              "      <th>active_cases</th>\n",
              "      <th>critical</th>\n",
              "      <th>cases_per_1m</th>\n",
              "      <th>deaths_per_1m</th>\n",
              "      <th>total_tests</th>\n",
              "      <th>tests_per_1m</th>\n",
              "      <th>population</th>\n",
              "    </tr>\n",
              "  </thead>\n",
              "  <tbody>\n",
              "    <tr>\n",
              "      <th>0</th>\n",
              "      <td>Afghanistan</td>\n",
              "      <td>Asia</td>\n",
              "      <td>147473</td>\n",
              "      <td>6736.0</td>\n",
              "      <td>98073.0</td>\n",
              "      <td>42664.0</td>\n",
              "      <td>1124.0</td>\n",
              "      <td>3699</td>\n",
              "      <td>169.0</td>\n",
              "      <td>707244.0</td>\n",
              "      <td>17739.0</td>\n",
              "      <td>39869084</td>\n",
              "    </tr>\n",
              "    <tr>\n",
              "      <th>1</th>\n",
              "      <td>Albania</td>\n",
              "      <td>Europe</td>\n",
              "      <td>133081</td>\n",
              "      <td>2457.0</td>\n",
              "      <td>130222.0</td>\n",
              "      <td>402.0</td>\n",
              "      <td>3.0</td>\n",
              "      <td>46299</td>\n",
              "      <td>855.0</td>\n",
              "      <td>916777.0</td>\n",
              "      <td>318945.0</td>\n",
              "      <td>2874408</td>\n",
              "    </tr>\n",
              "    <tr>\n",
              "      <th>2</th>\n",
              "      <td>Algeria</td>\n",
              "      <td>Africa</td>\n",
              "      <td>171392</td>\n",
              "      <td>4254.0</td>\n",
              "      <td>115276.0</td>\n",
              "      <td>51862.0</td>\n",
              "      <td>47.0</td>\n",
              "      <td>3834</td>\n",
              "      <td>95.0</td>\n",
              "      <td>230861.0</td>\n",
              "      <td>5164.0</td>\n",
              "      <td>44701619</td>\n",
              "    </tr>\n",
              "    <tr>\n",
              "      <th>3</th>\n",
              "      <td>Andorra</td>\n",
              "      <td>Europe</td>\n",
              "      <td>14678</td>\n",
              "      <td>128.0</td>\n",
              "      <td>14210.0</td>\n",
              "      <td>340.0</td>\n",
              "      <td>NaN</td>\n",
              "      <td>189643</td>\n",
              "      <td>1654.0</td>\n",
              "      <td>193595.0</td>\n",
              "      <td>2501292.0</td>\n",
              "      <td>77398</td>\n",
              "    </tr>\n",
              "    <tr>\n",
              "      <th>4</th>\n",
              "      <td>Angola</td>\n",
              "      <td>Africa</td>\n",
              "      <td>42646</td>\n",
              "      <td>1008.0</td>\n",
              "      <td>36708.0</td>\n",
              "      <td>4930.0</td>\n",
              "      <td>8.0</td>\n",
              "      <td>1256</td>\n",
              "      <td>30.0</td>\n",
              "      <td>681443.0</td>\n",
              "      <td>20065.0</td>\n",
              "      <td>33961015</td>\n",
              "    </tr>\n",
              "  </tbody>\n",
              "</table>\n",
              "</div>"
            ],
            "text/plain": [
              "       country continent  ...  tests_per_1m  population\n",
              "0  Afghanistan      Asia  ...       17739.0    39869084\n",
              "1      Albania    Europe  ...      318945.0     2874408\n",
              "2      Algeria    Africa  ...        5164.0    44701619\n",
              "3      Andorra    Europe  ...     2501292.0       77398\n",
              "4       Angola    Africa  ...       20065.0    33961015\n",
              "\n",
              "[5 rows x 12 columns]"
            ]
          },
          "metadata": {
            "tags": []
          },
          "execution_count": 66
        }
      ]
    },
    {
      "cell_type": "code",
      "metadata": {
        "colab": {
          "base_uri": "https://localhost:8080/"
        },
        "id": "NeXD1k7r8_tA",
        "outputId": "af946996-4353-4495-e585-6244fa59cc9c"
      },
      "source": [
        "data.shape"
      ],
      "execution_count": null,
      "outputs": [
        {
          "output_type": "execute_result",
          "data": {
            "text/plain": [
              "(220, 12)"
            ]
          },
          "metadata": {
            "tags": []
          },
          "execution_count": 67
        }
      ]
    },
    {
      "cell_type": "code",
      "metadata": {
        "colab": {
          "base_uri": "https://localhost:8080/",
          "height": 224
        },
        "id": "RTMqQ5b7U2AE",
        "outputId": "7b8f1341-cb27-4b2d-e998-86e5af5a18cd"
      },
      "source": [
        "data.head()"
      ],
      "execution_count": null,
      "outputs": [
        {
          "output_type": "execute_result",
          "data": {
            "text/html": [
              "<div>\n",
              "<style scoped>\n",
              "    .dataframe tbody tr th:only-of-type {\n",
              "        vertical-align: middle;\n",
              "    }\n",
              "\n",
              "    .dataframe tbody tr th {\n",
              "        vertical-align: top;\n",
              "    }\n",
              "\n",
              "    .dataframe thead th {\n",
              "        text-align: right;\n",
              "    }\n",
              "</style>\n",
              "<table border=\"1\" class=\"dataframe\">\n",
              "  <thead>\n",
              "    <tr style=\"text-align: right;\">\n",
              "      <th></th>\n",
              "      <th>country</th>\n",
              "      <th>continent</th>\n",
              "      <th>total_confirmed</th>\n",
              "      <th>total_deaths</th>\n",
              "      <th>total_recovered</th>\n",
              "      <th>active_cases</th>\n",
              "      <th>critical</th>\n",
              "      <th>cases_per_1m</th>\n",
              "      <th>deaths_per_1m</th>\n",
              "      <th>total_tests</th>\n",
              "      <th>tests_per_1m</th>\n",
              "      <th>population</th>\n",
              "    </tr>\n",
              "  </thead>\n",
              "  <tbody>\n",
              "    <tr>\n",
              "      <th>0</th>\n",
              "      <td>Afghanistan</td>\n",
              "      <td>Asia</td>\n",
              "      <td>147473</td>\n",
              "      <td>6736.0</td>\n",
              "      <td>98073.0</td>\n",
              "      <td>42664.0</td>\n",
              "      <td>1124.0</td>\n",
              "      <td>3699</td>\n",
              "      <td>169.0</td>\n",
              "      <td>707244.0</td>\n",
              "      <td>17739.0</td>\n",
              "      <td>39869084</td>\n",
              "    </tr>\n",
              "    <tr>\n",
              "      <th>1</th>\n",
              "      <td>Albania</td>\n",
              "      <td>Europe</td>\n",
              "      <td>133081</td>\n",
              "      <td>2457.0</td>\n",
              "      <td>130222.0</td>\n",
              "      <td>402.0</td>\n",
              "      <td>3.0</td>\n",
              "      <td>46299</td>\n",
              "      <td>855.0</td>\n",
              "      <td>916777.0</td>\n",
              "      <td>318945.0</td>\n",
              "      <td>2874408</td>\n",
              "    </tr>\n",
              "    <tr>\n",
              "      <th>2</th>\n",
              "      <td>Algeria</td>\n",
              "      <td>Africa</td>\n",
              "      <td>171392</td>\n",
              "      <td>4254.0</td>\n",
              "      <td>115276.0</td>\n",
              "      <td>51862.0</td>\n",
              "      <td>47.0</td>\n",
              "      <td>3834</td>\n",
              "      <td>95.0</td>\n",
              "      <td>230861.0</td>\n",
              "      <td>5164.0</td>\n",
              "      <td>44701619</td>\n",
              "    </tr>\n",
              "    <tr>\n",
              "      <th>3</th>\n",
              "      <td>Andorra</td>\n",
              "      <td>Europe</td>\n",
              "      <td>14678</td>\n",
              "      <td>128.0</td>\n",
              "      <td>14210.0</td>\n",
              "      <td>340.0</td>\n",
              "      <td>NaN</td>\n",
              "      <td>189643</td>\n",
              "      <td>1654.0</td>\n",
              "      <td>193595.0</td>\n",
              "      <td>2501292.0</td>\n",
              "      <td>77398</td>\n",
              "    </tr>\n",
              "    <tr>\n",
              "      <th>4</th>\n",
              "      <td>Angola</td>\n",
              "      <td>Africa</td>\n",
              "      <td>42646</td>\n",
              "      <td>1008.0</td>\n",
              "      <td>36708.0</td>\n",
              "      <td>4930.0</td>\n",
              "      <td>8.0</td>\n",
              "      <td>1256</td>\n",
              "      <td>30.0</td>\n",
              "      <td>681443.0</td>\n",
              "      <td>20065.0</td>\n",
              "      <td>33961015</td>\n",
              "    </tr>\n",
              "  </tbody>\n",
              "</table>\n",
              "</div>"
            ],
            "text/plain": [
              "       country continent  ...  tests_per_1m  population\n",
              "0  Afghanistan      Asia  ...       17739.0    39869084\n",
              "1      Albania    Europe  ...      318945.0     2874408\n",
              "2      Algeria    Africa  ...        5164.0    44701619\n",
              "3      Andorra    Europe  ...     2501292.0       77398\n",
              "4       Angola    Africa  ...       20065.0    33961015\n",
              "\n",
              "[5 rows x 12 columns]"
            ]
          },
          "metadata": {
            "tags": []
          },
          "execution_count": 68
        }
      ]
    },
    {
      "cell_type": "code",
      "metadata": {
        "colab": {
          "base_uri": "https://localhost:8080/"
        },
        "id": "SLzvxzhu-rRT",
        "outputId": "ceba6a8d-d38b-470e-980e-67c34a329b02"
      },
      "source": [
        "data.count() # not null values."
      ],
      "execution_count": null,
      "outputs": [
        {
          "output_type": "execute_result",
          "data": {
            "text/plain": [
              "country            220\n",
              "continent          220\n",
              "total_confirmed    220\n",
              "total_deaths       207\n",
              "total_recovered    219\n",
              "active_cases       219\n",
              "critical           146\n",
              "cases_per_1m       220\n",
              "deaths_per_1m      204\n",
              "total_tests        210\n",
              "tests_per_1m       210\n",
              "population         220\n",
              "dtype: int64"
            ]
          },
          "metadata": {
            "tags": []
          },
          "execution_count": 69
        }
      ]
    },
    {
      "cell_type": "code",
      "metadata": {
        "id": "BdNIgr32UDdY"
      },
      "source": [
        "data=data.interpolate(method=\"linear\")"
      ],
      "execution_count": null,
      "outputs": []
    },
    {
      "cell_type": "code",
      "metadata": {
        "colab": {
          "base_uri": "https://localhost:8080/"
        },
        "id": "pqQhNJVaUbPk",
        "outputId": "b447e58b-faac-4f5e-8d59-f5aff1f9f1ea"
      },
      "source": [
        "data.shape"
      ],
      "execution_count": null,
      "outputs": [
        {
          "output_type": "execute_result",
          "data": {
            "text/plain": [
              "(220, 12)"
            ]
          },
          "metadata": {
            "tags": []
          },
          "execution_count": 71
        }
      ]
    },
    {
      "cell_type": "code",
      "metadata": {
        "colab": {
          "base_uri": "https://localhost:8080/"
        },
        "id": "ZBZG0YY_UjdB",
        "outputId": "b5a78e34-5ce4-4911-d146-b92e314cf02d"
      },
      "source": [
        "data.count()"
      ],
      "execution_count": null,
      "outputs": [
        {
          "output_type": "execute_result",
          "data": {
            "text/plain": [
              "country            220\n",
              "continent          220\n",
              "total_confirmed    220\n",
              "total_deaths       220\n",
              "total_recovered    220\n",
              "active_cases       220\n",
              "critical           220\n",
              "cases_per_1m       220\n",
              "deaths_per_1m      220\n",
              "total_tests        220\n",
              "tests_per_1m       220\n",
              "population         220\n",
              "dtype: int64"
            ]
          },
          "metadata": {
            "tags": []
          },
          "execution_count": 72
        }
      ]
    },
    {
      "cell_type": "code",
      "metadata": {
        "colab": {
          "base_uri": "https://localhost:8080/"
        },
        "id": "w3lzaLdwUoL6",
        "outputId": "05dbaba1-0b66-4b31-8705-84abe090b4ba"
      },
      "source": [
        "data.isnull().sum()"
      ],
      "execution_count": null,
      "outputs": [
        {
          "output_type": "execute_result",
          "data": {
            "text/plain": [
              "country            0\n",
              "continent          0\n",
              "total_confirmed    0\n",
              "total_deaths       0\n",
              "total_recovered    0\n",
              "active_cases       0\n",
              "critical           0\n",
              "cases_per_1m       0\n",
              "deaths_per_1m      0\n",
              "total_tests        0\n",
              "tests_per_1m       0\n",
              "population         0\n",
              "dtype: int64"
            ]
          },
          "metadata": {
            "tags": []
          },
          "execution_count": 73
        }
      ]
    },
    {
      "cell_type": "markdown",
      "metadata": {
        "id": "F2_XIXWvV2xh"
      },
      "source": [
        "> Other measures"
      ]
    },
    {
      "cell_type": "code",
      "metadata": {
        "colab": {
          "base_uri": "https://localhost:8080/"
        },
        "id": "AWdrgInqVdbK",
        "outputId": "641db425-9800-4b15-d694-75cde0795d94"
      },
      "source": [
        "data.info()"
      ],
      "execution_count": null,
      "outputs": [
        {
          "output_type": "stream",
          "text": [
            "<class 'pandas.core.frame.DataFrame'>\n",
            "RangeIndex: 220 entries, 0 to 219\n",
            "Data columns (total 12 columns):\n",
            " #   Column           Non-Null Count  Dtype  \n",
            "---  ------           --------------  -----  \n",
            " 0   country          220 non-null    object \n",
            " 1   continent        220 non-null    object \n",
            " 2   total_confirmed  220 non-null    int64  \n",
            " 3   total_deaths     220 non-null    float64\n",
            " 4   total_recovered  220 non-null    float64\n",
            " 5   active_cases     220 non-null    float64\n",
            " 6   critical         220 non-null    float64\n",
            " 7   cases_per_1m     220 non-null    int64  \n",
            " 8   deaths_per_1m    220 non-null    float64\n",
            " 9   total_tests      220 non-null    float64\n",
            " 10  tests_per_1m     220 non-null    float64\n",
            " 11  population       220 non-null    int64  \n",
            "dtypes: float64(7), int64(3), object(2)\n",
            "memory usage: 20.8+ KB\n"
          ],
          "name": "stdout"
        }
      ]
    },
    {
      "cell_type": "code",
      "metadata": {
        "id": "mNRlYtX9ooH5"
      },
      "source": [
        "data.total_deaths=data.total_deaths.astype(int)\n",
        "data.total_recovered=data.total_recovered.astype(int)\n",
        "data.total_recovered=data.total_recovered.astype(int)\n",
        "data.active_cases=data.active_cases.astype(int)\n",
        "data.critical=data.critical.astype(int)\n",
        "data.deaths_per_1m=data.deaths_per_1m.astype(int)\n",
        "data.total_tests=data.total_tests.astype(int)\n",
        "data.tests_per_1m=data.tests_per_1m.astype(int)"
      ],
      "execution_count": null,
      "outputs": []
    },
    {
      "cell_type": "code",
      "metadata": {
        "colab": {
          "base_uri": "https://localhost:8080/",
          "height": 297
        },
        "id": "6x1nKRYvVkjn",
        "outputId": "c900e8ad-79f5-4da2-c806-6e071ccf8106"
      },
      "source": [
        "data.describe()"
      ],
      "execution_count": null,
      "outputs": [
        {
          "output_type": "execute_result",
          "data": {
            "text/html": [
              "<div>\n",
              "<style scoped>\n",
              "    .dataframe tbody tr th:only-of-type {\n",
              "        vertical-align: middle;\n",
              "    }\n",
              "\n",
              "    .dataframe tbody tr th {\n",
              "        vertical-align: top;\n",
              "    }\n",
              "\n",
              "    .dataframe thead th {\n",
              "        text-align: right;\n",
              "    }\n",
              "</style>\n",
              "<table border=\"1\" class=\"dataframe\">\n",
              "  <thead>\n",
              "    <tr style=\"text-align: right;\">\n",
              "      <th></th>\n",
              "      <th>total_confirmed</th>\n",
              "      <th>total_deaths</th>\n",
              "      <th>total_recovered</th>\n",
              "      <th>active_cases</th>\n",
              "      <th>critical</th>\n",
              "      <th>cases_per_1m</th>\n",
              "      <th>deaths_per_1m</th>\n",
              "      <th>total_tests</th>\n",
              "      <th>tests_per_1m</th>\n",
              "      <th>population</th>\n",
              "    </tr>\n",
              "  </thead>\n",
              "  <tbody>\n",
              "    <tr>\n",
              "      <th>count</th>\n",
              "      <td>2.200000e+02</td>\n",
              "      <td>220.000000</td>\n",
              "      <td>2.200000e+02</td>\n",
              "      <td>2.200000e+02</td>\n",
              "      <td>220.000000</td>\n",
              "      <td>220.000000</td>\n",
              "      <td>220.000000</td>\n",
              "      <td>2.200000e+02</td>\n",
              "      <td>2.200000e+02</td>\n",
              "      <td>2.200000e+02</td>\n",
              "    </tr>\n",
              "    <tr>\n",
              "      <th>mean</th>\n",
              "      <td>9.021924e+05</td>\n",
              "      <td>19922.345455</td>\n",
              "      <td>8.112964e+05</td>\n",
              "      <td>6.750614e+04</td>\n",
              "      <td>597.950000</td>\n",
              "      <td>39901.322727</td>\n",
              "      <td>695.727273</td>\n",
              "      <td>1.380974e+07</td>\n",
              "      <td>8.932133e+05</td>\n",
              "      <td>3.563921e+07</td>\n",
              "    </tr>\n",
              "    <tr>\n",
              "      <th>std</th>\n",
              "      <td>3.598470e+06</td>\n",
              "      <td>69859.197783</td>\n",
              "      <td>3.244071e+06</td>\n",
              "      <td>3.860181e+05</td>\n",
              "      <td>1498.901553</td>\n",
              "      <td>42102.158641</td>\n",
              "      <td>827.174620</td>\n",
              "      <td>5.355192e+07</td>\n",
              "      <td>1.615497e+06</td>\n",
              "      <td>1.402212e+08</td>\n",
              "    </tr>\n",
              "    <tr>\n",
              "      <th>min</th>\n",
              "      <td>1.000000e+00</td>\n",
              "      <td>1.000000</td>\n",
              "      <td>1.000000e+00</td>\n",
              "      <td>-1.489000e+03</td>\n",
              "      <td>1.000000</td>\n",
              "      <td>9.000000</td>\n",
              "      <td>2.000000</td>\n",
              "      <td>1.408000e+03</td>\n",
              "      <td>2.882000e+03</td>\n",
              "      <td>8.030000e+02</td>\n",
              "    </tr>\n",
              "    <tr>\n",
              "      <th>25%</th>\n",
              "      <td>7.896500e+03</td>\n",
              "      <td>148.750000</td>\n",
              "      <td>5.361500e+03</td>\n",
              "      <td>4.057500e+02</td>\n",
              "      <td>11.000000</td>\n",
              "      <td>3090.500000</td>\n",
              "      <td>71.750000</td>\n",
              "      <td>1.776435e+05</td>\n",
              "      <td>9.371250e+04</td>\n",
              "      <td>6.347295e+05</td>\n",
              "    </tr>\n",
              "    <tr>\n",
              "      <th>50%</th>\n",
              "      <td>7.733750e+04</td>\n",
              "      <td>1379.500000</td>\n",
              "      <td>6.642950e+04</td>\n",
              "      <td>3.491500e+03</td>\n",
              "      <td>71.000000</td>\n",
              "      <td>26154.500000</td>\n",
              "      <td>383.000000</td>\n",
              "      <td>1.295610e+06</td>\n",
              "      <td>3.358005e+05</td>\n",
              "      <td>6.580660e+06</td>\n",
              "    </tr>\n",
              "    <tr>\n",
              "      <th>75%</th>\n",
              "      <td>4.099940e+05</td>\n",
              "      <td>7852.000000</td>\n",
              "      <td>3.828102e+05</td>\n",
              "      <td>2.107600e+04</td>\n",
              "      <td>360.250000</td>\n",
              "      <td>68381.000000</td>\n",
              "      <td>1044.500000</td>\n",
              "      <td>6.607607e+06</td>\n",
              "      <td>1.012962e+06</td>\n",
              "      <td>2.418337e+07</td>\n",
              "    </tr>\n",
              "    <tr>\n",
              "      <th>max</th>\n",
              "      <td>3.573397e+07</td>\n",
              "      <td>629290.000000</td>\n",
              "      <td>3.081287e+07</td>\n",
              "      <td>5.438593e+06</td>\n",
              "      <td>9375.000000</td>\n",
              "      <td>189643.000000</td>\n",
              "      <td>5865.000000</td>\n",
              "      <td>5.295773e+08</td>\n",
              "      <td>1.311142e+07</td>\n",
              "      <td>1.439324e+09</td>\n",
              "    </tr>\n",
              "  </tbody>\n",
              "</table>\n",
              "</div>"
            ],
            "text/plain": [
              "       total_confirmed   total_deaths  ...  tests_per_1m    population\n",
              "count     2.200000e+02     220.000000  ...  2.200000e+02  2.200000e+02\n",
              "mean      9.021924e+05   19922.345455  ...  8.932133e+05  3.563921e+07\n",
              "std       3.598470e+06   69859.197783  ...  1.615497e+06  1.402212e+08\n",
              "min       1.000000e+00       1.000000  ...  2.882000e+03  8.030000e+02\n",
              "25%       7.896500e+03     148.750000  ...  9.371250e+04  6.347295e+05\n",
              "50%       7.733750e+04    1379.500000  ...  3.358005e+05  6.580660e+06\n",
              "75%       4.099940e+05    7852.000000  ...  1.012962e+06  2.418337e+07\n",
              "max       3.573397e+07  629290.000000  ...  1.311142e+07  1.439324e+09\n",
              "\n",
              "[8 rows x 10 columns]"
            ]
          },
          "metadata": {
            "tags": []
          },
          "execution_count": 76
        }
      ]
    },
    {
      "cell_type": "code",
      "metadata": {
        "colab": {
          "base_uri": "https://localhost:8080/",
          "height": 464
        },
        "id": "Jjt1eD71V6pB",
        "outputId": "ecf46285-3527-4222-ae33-a01eb33da574"
      },
      "source": [
        "data.head(10)"
      ],
      "execution_count": null,
      "outputs": [
        {
          "output_type": "execute_result",
          "data": {
            "text/html": [
              "<div>\n",
              "<style scoped>\n",
              "    .dataframe tbody tr th:only-of-type {\n",
              "        vertical-align: middle;\n",
              "    }\n",
              "\n",
              "    .dataframe tbody tr th {\n",
              "        vertical-align: top;\n",
              "    }\n",
              "\n",
              "    .dataframe thead th {\n",
              "        text-align: right;\n",
              "    }\n",
              "</style>\n",
              "<table border=\"1\" class=\"dataframe\">\n",
              "  <thead>\n",
              "    <tr style=\"text-align: right;\">\n",
              "      <th></th>\n",
              "      <th>country</th>\n",
              "      <th>continent</th>\n",
              "      <th>total_confirmed</th>\n",
              "      <th>total_deaths</th>\n",
              "      <th>total_recovered</th>\n",
              "      <th>active_cases</th>\n",
              "      <th>critical</th>\n",
              "      <th>cases_per_1m</th>\n",
              "      <th>deaths_per_1m</th>\n",
              "      <th>total_tests</th>\n",
              "      <th>tests_per_1m</th>\n",
              "      <th>population</th>\n",
              "    </tr>\n",
              "  </thead>\n",
              "  <tbody>\n",
              "    <tr>\n",
              "      <th>0</th>\n",
              "      <td>Afghanistan</td>\n",
              "      <td>Asia</td>\n",
              "      <td>147473</td>\n",
              "      <td>6736</td>\n",
              "      <td>98073</td>\n",
              "      <td>42664</td>\n",
              "      <td>1124</td>\n",
              "      <td>3699</td>\n",
              "      <td>169</td>\n",
              "      <td>707244</td>\n",
              "      <td>17739</td>\n",
              "      <td>39869084</td>\n",
              "    </tr>\n",
              "    <tr>\n",
              "      <th>1</th>\n",
              "      <td>Albania</td>\n",
              "      <td>Europe</td>\n",
              "      <td>133081</td>\n",
              "      <td>2457</td>\n",
              "      <td>130222</td>\n",
              "      <td>402</td>\n",
              "      <td>3</td>\n",
              "      <td>46299</td>\n",
              "      <td>855</td>\n",
              "      <td>916777</td>\n",
              "      <td>318945</td>\n",
              "      <td>2874408</td>\n",
              "    </tr>\n",
              "    <tr>\n",
              "      <th>2</th>\n",
              "      <td>Algeria</td>\n",
              "      <td>Africa</td>\n",
              "      <td>171392</td>\n",
              "      <td>4254</td>\n",
              "      <td>115276</td>\n",
              "      <td>51862</td>\n",
              "      <td>47</td>\n",
              "      <td>3834</td>\n",
              "      <td>95</td>\n",
              "      <td>230861</td>\n",
              "      <td>5164</td>\n",
              "      <td>44701619</td>\n",
              "    </tr>\n",
              "    <tr>\n",
              "      <th>3</th>\n",
              "      <td>Andorra</td>\n",
              "      <td>Europe</td>\n",
              "      <td>14678</td>\n",
              "      <td>128</td>\n",
              "      <td>14210</td>\n",
              "      <td>340</td>\n",
              "      <td>27</td>\n",
              "      <td>189643</td>\n",
              "      <td>1654</td>\n",
              "      <td>193595</td>\n",
              "      <td>2501292</td>\n",
              "      <td>77398</td>\n",
              "    </tr>\n",
              "    <tr>\n",
              "      <th>4</th>\n",
              "      <td>Angola</td>\n",
              "      <td>Africa</td>\n",
              "      <td>42646</td>\n",
              "      <td>1008</td>\n",
              "      <td>36708</td>\n",
              "      <td>4930</td>\n",
              "      <td>8</td>\n",
              "      <td>1256</td>\n",
              "      <td>30</td>\n",
              "      <td>681443</td>\n",
              "      <td>20065</td>\n",
              "      <td>33961015</td>\n",
              "    </tr>\n",
              "    <tr>\n",
              "      <th>5</th>\n",
              "      <td>Anguilla</td>\n",
              "      <td>North America</td>\n",
              "      <td>113</td>\n",
              "      <td>525</td>\n",
              "      <td>111</td>\n",
              "      <td>2</td>\n",
              "      <td>5</td>\n",
              "      <td>7460</td>\n",
              "      <td>232</td>\n",
              "      <td>31656</td>\n",
              "      <td>2089919</td>\n",
              "      <td>15147</td>\n",
              "    </tr>\n",
              "    <tr>\n",
              "      <th>6</th>\n",
              "      <td>Antigua And Barbuda</td>\n",
              "      <td>North America</td>\n",
              "      <td>1303</td>\n",
              "      <td>43</td>\n",
              "      <td>1235</td>\n",
              "      <td>25</td>\n",
              "      <td>3</td>\n",
              "      <td>13188</td>\n",
              "      <td>435</td>\n",
              "      <td>17147</td>\n",
              "      <td>173549</td>\n",
              "      <td>98802</td>\n",
              "    </tr>\n",
              "    <tr>\n",
              "      <th>7</th>\n",
              "      <td>Argentina</td>\n",
              "      <td>South America</td>\n",
              "      <td>4929764</td>\n",
              "      <td>105721</td>\n",
              "      <td>4569552</td>\n",
              "      <td>254491</td>\n",
              "      <td>3976</td>\n",
              "      <td>108009</td>\n",
              "      <td>2316</td>\n",
              "      <td>19423553</td>\n",
              "      <td>425562</td>\n",
              "      <td>45642150</td>\n",
              "    </tr>\n",
              "    <tr>\n",
              "      <th>8</th>\n",
              "      <td>Armenia</td>\n",
              "      <td>Asia</td>\n",
              "      <td>230110</td>\n",
              "      <td>4614</td>\n",
              "      <td>219864</td>\n",
              "      <td>5632</td>\n",
              "      <td>1995</td>\n",
              "      <td>77499</td>\n",
              "      <td>1554</td>\n",
              "      <td>1340258</td>\n",
              "      <td>451385</td>\n",
              "      <td>2969212</td>\n",
              "    </tr>\n",
              "    <tr>\n",
              "      <th>9</th>\n",
              "      <td>Aruba</td>\n",
              "      <td>North America</td>\n",
              "      <td>11730</td>\n",
              "      <td>110</td>\n",
              "      <td>11160</td>\n",
              "      <td>460</td>\n",
              "      <td>14</td>\n",
              "      <td>109367</td>\n",
              "      <td>1026</td>\n",
              "      <td>177885</td>\n",
              "      <td>1658540</td>\n",
              "      <td>107254</td>\n",
              "    </tr>\n",
              "  </tbody>\n",
              "</table>\n",
              "</div>"
            ],
            "text/plain": [
              "               country      continent  ...  tests_per_1m  population\n",
              "0          Afghanistan           Asia  ...         17739    39869084\n",
              "1              Albania         Europe  ...        318945     2874408\n",
              "2              Algeria         Africa  ...          5164    44701619\n",
              "3              Andorra         Europe  ...       2501292       77398\n",
              "4               Angola         Africa  ...         20065    33961015\n",
              "5             Anguilla  North America  ...       2089919       15147\n",
              "6  Antigua And Barbuda  North America  ...        173549       98802\n",
              "7            Argentina  South America  ...        425562    45642150\n",
              "8              Armenia           Asia  ...        451385     2969212\n",
              "9                Aruba  North America  ...       1658540      107254\n",
              "\n",
              "[10 rows x 12 columns]"
            ]
          },
          "metadata": {
            "tags": []
          },
          "execution_count": 77
        }
      ]
    },
    {
      "cell_type": "markdown",
      "metadata": {
        "id": "hMMo4y47Yovg"
      },
      "source": [
        "Top 10 countries with maximum covid confirmed cases."
      ]
    },
    {
      "cell_type": "code",
      "metadata": {
        "colab": {
          "base_uri": "https://localhost:8080/"
        },
        "id": "CfIqXVEhYdMT",
        "outputId": "92ba9442-6e3c-453f-bdc2-33c82d49743a"
      },
      "source": [
        "data.groupby('country')['total_confirmed'].sum().sort_values(ascending=False).head(10)"
      ],
      "execution_count": null,
      "outputs": [
        {
          "output_type": "execute_result",
          "data": {
            "text/plain": [
              "country\n",
              "USA          35733967\n",
              "India        31654584\n",
              "Brazil       19917855\n",
              "Russia        6265873\n",
              "France        6127019\n",
              "UK            5856528\n",
              "Turkey        5727045\n",
              "Argentina     4929764\n",
              "Colombia      4785320\n",
              "Spain         4447044\n",
              "Name: total_confirmed, dtype: int64"
            ]
          },
          "metadata": {
            "tags": []
          },
          "execution_count": 78
        }
      ]
    },
    {
      "cell_type": "markdown",
      "metadata": {
        "id": "6FDBDaVpabJg"
      },
      "source": [
        "10 countries with minimum covid confirmed cases."
      ]
    },
    {
      "cell_type": "code",
      "metadata": {
        "colab": {
          "base_uri": "https://localhost:8080/"
        },
        "id": "tQw6ht7SY2lz",
        "outputId": "d1bd6308-e6ec-40d0-922c-5332a3fd6af7"
      },
      "source": [
        "data.groupby('country')['total_confirmed'].sum().sort_values(ascending=True).head(10)"
      ],
      "execution_count": null,
      "outputs": [
        {
          "output_type": "execute_result",
          "data": {
            "text/plain": [
              "country\n",
              "Micronesia                    1\n",
              "Saint Helena                  2\n",
              "Samoa                         3\n",
              "Marshall Islands              4\n",
              "Vanuatu                       4\n",
              "Western Sahara               10\n",
              "Solomon Islands              20\n",
              "Montserrat                   21\n",
              "Holy See                     27\n",
              "Saint Pierre And Miquelon    28\n",
              "Name: total_confirmed, dtype: int64"
            ]
          },
          "metadata": {
            "tags": []
          },
          "execution_count": 79
        }
      ]
    },
    {
      "cell_type": "markdown",
      "metadata": {
        "id": "w3GNazKrbHwI"
      },
      "source": [
        "Top 10 countries with maximum covid death cases."
      ]
    },
    {
      "cell_type": "code",
      "metadata": {
        "colab": {
          "base_uri": "https://localhost:8080/"
        },
        "id": "HpjnThfga-xE",
        "outputId": "8bb43475-a835-4a55-e226-f59b710696e0"
      },
      "source": [
        "data.groupby('country')['total_deaths'].sum().sort_values(ascending=False).head(10)"
      ],
      "execution_count": null,
      "outputs": [
        {
          "output_type": "execute_result",
          "data": {
            "text/plain": [
              "country\n",
              "USA           629290\n",
              "Brazil        556370\n",
              "India         424384\n",
              "Mexico        240456\n",
              "Peru          196291\n",
              "Russia        158563\n",
              "UK            129654\n",
              "Italy         128063\n",
              "Micronesia    123355\n",
              "Colombia      120723\n",
              "Name: total_deaths, dtype: int64"
            ]
          },
          "metadata": {
            "tags": []
          },
          "execution_count": 80
        }
      ]
    },
    {
      "cell_type": "markdown",
      "metadata": {
        "id": "AdW992N2bZ4W"
      },
      "source": [
        "Top 10 countries with minimum covid death cases."
      ]
    },
    {
      "cell_type": "code",
      "metadata": {
        "colab": {
          "base_uri": "https://localhost:8080/"
        },
        "id": "_fu7JaoObW55",
        "outputId": "7dea594b-757e-4d98-e640-59fafd2547c8"
      },
      "source": [
        "data.groupby('country')['total_deaths'].sum().sort_values(ascending=True).head(10)"
      ],
      "execution_count": null,
      "outputs": [
        {
          "output_type": "execute_result",
          "data": {
            "text/plain": [
              "country\n",
              "Montserrat               1\n",
              "Saint Barthelemy         1\n",
              "Grenada                  1\n",
              "Vanuatu                  1\n",
              "Western Sahara           1\n",
              "Cayman Islands           2\n",
              "Bhutan                   2\n",
              "Faeroe Islands           2\n",
              "Saint Helena             2\n",
              "Saint Kitts And Nevis    3\n",
              "Name: total_deaths, dtype: int64"
            ]
          },
          "metadata": {
            "tags": []
          },
          "execution_count": 81
        }
      ]
    },
    {
      "cell_type": "markdown",
      "metadata": {
        "id": "soRUqmlyb9q0"
      },
      "source": [
        "Top 10 countries with maximum covid recovery cases."
      ]
    },
    {
      "cell_type": "code",
      "metadata": {
        "colab": {
          "base_uri": "https://localhost:8080/"
        },
        "id": "EnHy1UJWbxqD",
        "outputId": "fa5b95e6-619d-473d-aa7d-4f5d8c4ad953"
      },
      "source": [
        "data.groupby('country')['total_recovered'].sum().sort_values(ascending=False).head(10)"
      ],
      "execution_count": null,
      "outputs": [
        {
          "output_type": "execute_result",
          "data": {
            "text/plain": [
              "country\n",
              "India        30812873\n",
              "USA          29666084\n",
              "Brazil       18619542\n",
              "France        5700815\n",
              "Russia        5608619\n",
              "Turkey        5454360\n",
              "Colombia      4578519\n",
              "Argentina     4569552\n",
              "UK            4508650\n",
              "Italy         4134680\n",
              "Name: total_recovered, dtype: int64"
            ]
          },
          "metadata": {
            "tags": []
          },
          "execution_count": 82
        }
      ]
    },
    {
      "cell_type": "markdown",
      "metadata": {
        "id": "R9fBxZ7yci97"
      },
      "source": [
        "Top 10 countries with minimum covid recovery cases."
      ]
    },
    {
      "cell_type": "code",
      "metadata": {
        "colab": {
          "base_uri": "https://localhost:8080/"
        },
        "id": "i5jKKkAhcdLK",
        "outputId": "7548b88f-87c8-41f4-bb6a-5732db26acf8"
      },
      "source": [
        "data.groupby('country')['total_recovered'].sum().sort_values(ascending=True).head(10)"
      ],
      "execution_count": null,
      "outputs": [
        {
          "output_type": "execute_result",
          "data": {
            "text/plain": [
              "country\n",
              "Micronesia                    1\n",
              "Saint Helena                  2\n",
              "Samoa                         3\n",
              "Vanuatu                       3\n",
              "Marshall Islands              4\n",
              "Western Sahara                8\n",
              "Montserrat                   19\n",
              "Solomon Islands              20\n",
              "Saint Pierre And Miquelon    26\n",
              "Holy See                     27\n",
              "Name: total_recovered, dtype: int64"
            ]
          },
          "metadata": {
            "tags": []
          },
          "execution_count": 83
        }
      ]
    },
    {
      "cell_type": "code",
      "metadata": {
        "colab": {
          "base_uri": "https://localhost:8080/",
          "height": 224
        },
        "id": "ueOP45e9ctIp",
        "outputId": "e4501a2c-b184-4c82-8f97-0911e95db382"
      },
      "source": [
        "data.head()"
      ],
      "execution_count": null,
      "outputs": [
        {
          "output_type": "execute_result",
          "data": {
            "text/html": [
              "<div>\n",
              "<style scoped>\n",
              "    .dataframe tbody tr th:only-of-type {\n",
              "        vertical-align: middle;\n",
              "    }\n",
              "\n",
              "    .dataframe tbody tr th {\n",
              "        vertical-align: top;\n",
              "    }\n",
              "\n",
              "    .dataframe thead th {\n",
              "        text-align: right;\n",
              "    }\n",
              "</style>\n",
              "<table border=\"1\" class=\"dataframe\">\n",
              "  <thead>\n",
              "    <tr style=\"text-align: right;\">\n",
              "      <th></th>\n",
              "      <th>country</th>\n",
              "      <th>continent</th>\n",
              "      <th>total_confirmed</th>\n",
              "      <th>total_deaths</th>\n",
              "      <th>total_recovered</th>\n",
              "      <th>active_cases</th>\n",
              "      <th>critical</th>\n",
              "      <th>cases_per_1m</th>\n",
              "      <th>deaths_per_1m</th>\n",
              "      <th>total_tests</th>\n",
              "      <th>tests_per_1m</th>\n",
              "      <th>population</th>\n",
              "    </tr>\n",
              "  </thead>\n",
              "  <tbody>\n",
              "    <tr>\n",
              "      <th>0</th>\n",
              "      <td>Afghanistan</td>\n",
              "      <td>Asia</td>\n",
              "      <td>147473</td>\n",
              "      <td>6736</td>\n",
              "      <td>98073</td>\n",
              "      <td>42664</td>\n",
              "      <td>1124</td>\n",
              "      <td>3699</td>\n",
              "      <td>169</td>\n",
              "      <td>707244</td>\n",
              "      <td>17739</td>\n",
              "      <td>39869084</td>\n",
              "    </tr>\n",
              "    <tr>\n",
              "      <th>1</th>\n",
              "      <td>Albania</td>\n",
              "      <td>Europe</td>\n",
              "      <td>133081</td>\n",
              "      <td>2457</td>\n",
              "      <td>130222</td>\n",
              "      <td>402</td>\n",
              "      <td>3</td>\n",
              "      <td>46299</td>\n",
              "      <td>855</td>\n",
              "      <td>916777</td>\n",
              "      <td>318945</td>\n",
              "      <td>2874408</td>\n",
              "    </tr>\n",
              "    <tr>\n",
              "      <th>2</th>\n",
              "      <td>Algeria</td>\n",
              "      <td>Africa</td>\n",
              "      <td>171392</td>\n",
              "      <td>4254</td>\n",
              "      <td>115276</td>\n",
              "      <td>51862</td>\n",
              "      <td>47</td>\n",
              "      <td>3834</td>\n",
              "      <td>95</td>\n",
              "      <td>230861</td>\n",
              "      <td>5164</td>\n",
              "      <td>44701619</td>\n",
              "    </tr>\n",
              "    <tr>\n",
              "      <th>3</th>\n",
              "      <td>Andorra</td>\n",
              "      <td>Europe</td>\n",
              "      <td>14678</td>\n",
              "      <td>128</td>\n",
              "      <td>14210</td>\n",
              "      <td>340</td>\n",
              "      <td>27</td>\n",
              "      <td>189643</td>\n",
              "      <td>1654</td>\n",
              "      <td>193595</td>\n",
              "      <td>2501292</td>\n",
              "      <td>77398</td>\n",
              "    </tr>\n",
              "    <tr>\n",
              "      <th>4</th>\n",
              "      <td>Angola</td>\n",
              "      <td>Africa</td>\n",
              "      <td>42646</td>\n",
              "      <td>1008</td>\n",
              "      <td>36708</td>\n",
              "      <td>4930</td>\n",
              "      <td>8</td>\n",
              "      <td>1256</td>\n",
              "      <td>30</td>\n",
              "      <td>681443</td>\n",
              "      <td>20065</td>\n",
              "      <td>33961015</td>\n",
              "    </tr>\n",
              "  </tbody>\n",
              "</table>\n",
              "</div>"
            ],
            "text/plain": [
              "       country continent  ...  tests_per_1m  population\n",
              "0  Afghanistan      Asia  ...         17739    39869084\n",
              "1      Albania    Europe  ...        318945     2874408\n",
              "2      Algeria    Africa  ...          5164    44701619\n",
              "3      Andorra    Europe  ...       2501292       77398\n",
              "4       Angola    Africa  ...         20065    33961015\n",
              "\n",
              "[5 rows x 12 columns]"
            ]
          },
          "metadata": {
            "tags": []
          },
          "execution_count": 84
        }
      ]
    },
    {
      "cell_type": "markdown",
      "metadata": {
        "id": "c06EmmlvdUFA"
      },
      "source": [
        "10 countries with the maximum active cases"
      ]
    },
    {
      "cell_type": "code",
      "metadata": {
        "colab": {
          "base_uri": "https://localhost:8080/"
        },
        "id": "CmajgV-_dBxS",
        "outputId": "0c9b5ff1-ae26-4c06-b406-6c7572d8ac4e"
      },
      "source": [
        "data.groupby('country')['active_cases'].sum().sort_values(ascending=False).head(10)"
      ],
      "execution_count": null,
      "outputs": [
        {
          "output_type": "execute_result",
          "data": {
            "text/plain": [
              "country\n",
              "USA          5438593\n",
              "UK           1218224\n",
              "Brazil        741943\n",
              "Spain         654358\n",
              "Indonesia     545447\n",
              "Russia        498691\n",
              "India         417327\n",
              "Iran          413106\n",
              "Mexico        384878\n",
              "France        314337\n",
              "Name: active_cases, dtype: int64"
            ]
          },
          "metadata": {
            "tags": []
          },
          "execution_count": 85
        }
      ]
    },
    {
      "cell_type": "markdown",
      "metadata": {
        "id": "oMadlsc_nFtL"
      },
      "source": [
        "## Analysing per million cases against cases and deaths against countries."
      ]
    },
    {
      "cell_type": "code",
      "metadata": {
        "colab": {
          "base_uri": "https://localhost:8080/",
          "height": 224
        },
        "id": "8ng-9k7KdlEc",
        "outputId": "e57b9896-fa4a-49c0-fe88-d34f06fd6700"
      },
      "source": [
        "data.head()"
      ],
      "execution_count": null,
      "outputs": [
        {
          "output_type": "execute_result",
          "data": {
            "text/html": [
              "<div>\n",
              "<style scoped>\n",
              "    .dataframe tbody tr th:only-of-type {\n",
              "        vertical-align: middle;\n",
              "    }\n",
              "\n",
              "    .dataframe tbody tr th {\n",
              "        vertical-align: top;\n",
              "    }\n",
              "\n",
              "    .dataframe thead th {\n",
              "        text-align: right;\n",
              "    }\n",
              "</style>\n",
              "<table border=\"1\" class=\"dataframe\">\n",
              "  <thead>\n",
              "    <tr style=\"text-align: right;\">\n",
              "      <th></th>\n",
              "      <th>country</th>\n",
              "      <th>continent</th>\n",
              "      <th>total_confirmed</th>\n",
              "      <th>total_deaths</th>\n",
              "      <th>total_recovered</th>\n",
              "      <th>active_cases</th>\n",
              "      <th>critical</th>\n",
              "      <th>cases_per_1m</th>\n",
              "      <th>deaths_per_1m</th>\n",
              "      <th>total_tests</th>\n",
              "      <th>tests_per_1m</th>\n",
              "      <th>population</th>\n",
              "    </tr>\n",
              "  </thead>\n",
              "  <tbody>\n",
              "    <tr>\n",
              "      <th>0</th>\n",
              "      <td>Afghanistan</td>\n",
              "      <td>Asia</td>\n",
              "      <td>147473</td>\n",
              "      <td>6736</td>\n",
              "      <td>98073</td>\n",
              "      <td>42664</td>\n",
              "      <td>1124</td>\n",
              "      <td>3699</td>\n",
              "      <td>169</td>\n",
              "      <td>707244</td>\n",
              "      <td>17739</td>\n",
              "      <td>39869084</td>\n",
              "    </tr>\n",
              "    <tr>\n",
              "      <th>1</th>\n",
              "      <td>Albania</td>\n",
              "      <td>Europe</td>\n",
              "      <td>133081</td>\n",
              "      <td>2457</td>\n",
              "      <td>130222</td>\n",
              "      <td>402</td>\n",
              "      <td>3</td>\n",
              "      <td>46299</td>\n",
              "      <td>855</td>\n",
              "      <td>916777</td>\n",
              "      <td>318945</td>\n",
              "      <td>2874408</td>\n",
              "    </tr>\n",
              "    <tr>\n",
              "      <th>2</th>\n",
              "      <td>Algeria</td>\n",
              "      <td>Africa</td>\n",
              "      <td>171392</td>\n",
              "      <td>4254</td>\n",
              "      <td>115276</td>\n",
              "      <td>51862</td>\n",
              "      <td>47</td>\n",
              "      <td>3834</td>\n",
              "      <td>95</td>\n",
              "      <td>230861</td>\n",
              "      <td>5164</td>\n",
              "      <td>44701619</td>\n",
              "    </tr>\n",
              "    <tr>\n",
              "      <th>3</th>\n",
              "      <td>Andorra</td>\n",
              "      <td>Europe</td>\n",
              "      <td>14678</td>\n",
              "      <td>128</td>\n",
              "      <td>14210</td>\n",
              "      <td>340</td>\n",
              "      <td>27</td>\n",
              "      <td>189643</td>\n",
              "      <td>1654</td>\n",
              "      <td>193595</td>\n",
              "      <td>2501292</td>\n",
              "      <td>77398</td>\n",
              "    </tr>\n",
              "    <tr>\n",
              "      <th>4</th>\n",
              "      <td>Angola</td>\n",
              "      <td>Africa</td>\n",
              "      <td>42646</td>\n",
              "      <td>1008</td>\n",
              "      <td>36708</td>\n",
              "      <td>4930</td>\n",
              "      <td>8</td>\n",
              "      <td>1256</td>\n",
              "      <td>30</td>\n",
              "      <td>681443</td>\n",
              "      <td>20065</td>\n",
              "      <td>33961015</td>\n",
              "    </tr>\n",
              "  </tbody>\n",
              "</table>\n",
              "</div>"
            ],
            "text/plain": [
              "       country continent  ...  tests_per_1m  population\n",
              "0  Afghanistan      Asia  ...         17739    39869084\n",
              "1      Albania    Europe  ...        318945     2874408\n",
              "2      Algeria    Africa  ...          5164    44701619\n",
              "3      Andorra    Europe  ...       2501292       77398\n",
              "4       Angola    Africa  ...         20065    33961015\n",
              "\n",
              "[5 rows x 12 columns]"
            ]
          },
          "metadata": {
            "tags": []
          },
          "execution_count": 86
        }
      ]
    },
    {
      "cell_type": "markdown",
      "metadata": {
        "id": "rO-6frrenc49"
      },
      "source": [
        "> Top 10 countries with the maximum cases per million."
      ]
    },
    {
      "cell_type": "code",
      "metadata": {
        "colab": {
          "base_uri": "https://localhost:8080/"
        },
        "id": "t1dRIVPFm-Jt",
        "outputId": "6cf87def-9ef6-47bf-c824-22f8e877d62e"
      },
      "source": [
        "data.groupby('country')['cases_per_1m'].sum().sort_values(ascending=False).head(10)"
      ],
      "execution_count": null,
      "outputs": [
        {
          "output_type": "execute_result",
          "data": {
            "text/plain": [
              "country\n",
              "Andorra             189643\n",
              "Seychelles          183722\n",
              "Montenegro          162265\n",
              "Czech Republic      155966\n",
              "Bahrain             152526\n",
              "San Marino          150847\n",
              "Gibraltar           147417\n",
              "Maldives            140588\n",
              "Slovenia            124668\n",
              "Saint Barthelemy    120597\n",
              "Name: cases_per_1m, dtype: int64"
            ]
          },
          "metadata": {
            "tags": []
          },
          "execution_count": 87
        }
      ]
    },
    {
      "cell_type": "markdown",
      "metadata": {
        "id": "P9UDF-SUoOZQ"
      },
      "source": [
        "> Top 10 countries with the deaths per million."
      ]
    },
    {
      "cell_type": "code",
      "metadata": {
        "colab": {
          "base_uri": "https://localhost:8080/"
        },
        "id": "2esGD132n3nn",
        "outputId": "9e695e26-c807-49ed-94ec-18bb4a726954"
      },
      "source": [
        "data.groupby('country')['deaths_per_1m'].sum().sort_values(ascending=False).head(10)"
      ],
      "execution_count": null,
      "outputs": [
        {
          "output_type": "execute_result",
          "data": {
            "text/plain": [
              "country\n",
              "Peru                      5865\n",
              "Hungary                   3117\n",
              "Bosnia And Herzegovina    2973\n",
              "Czech Republic            2831\n",
              "Gibraltar                 2791\n",
              "San Marino                2646\n",
              "Bulgaria                  2642\n",
              "Macedonia                 2637\n",
              "Brazil                    2598\n",
              "Montenegro                2595\n",
              "Name: deaths_per_1m, dtype: int64"
            ]
          },
          "metadata": {
            "tags": []
          },
          "execution_count": 88
        }
      ]
    },
    {
      "cell_type": "markdown",
      "metadata": {
        "id": "DBZrEqRvqelM"
      },
      "source": [
        "Applying matplotlib.pyplot"
      ]
    },
    {
      "cell_type": "markdown",
      "metadata": {
        "id": "w6M-9futt1Ao"
      },
      "source": [
        "> Checking continent wise population"
      ]
    },
    {
      "cell_type": "code",
      "metadata": {
        "colab": {
          "base_uri": "https://localhost:8080/",
          "height": 129
        },
        "id": "LmnX534Hoiry",
        "outputId": "9ee5fce2-d4a9-4e38-ad2e-13346ff244ab"
      },
      "source": [
        "x1 = [1, 3, 4, 5, 6, 7, 9]\n",
        "y1 = [4, 7, 2, 4, 7, 8, 3]\n",
        "\n",
        "x2 = [2, 4, 6, 8, 10]\n",
        "y2 = [5, 6, 2, 6, 2]\n",
        "\n",
        "plt.bar(x1, y1, label=\"Blue Bar\", color='b')\n",
        "plt.bar(x2, y2, label=\"Green Bar\", color='g')\n",
        "plt.plot()\n",
        "\n",
        "plt.xlabel(\"bar number\")\n",
        "plt.ylabel(\"bar height\")\n",
        "plt.title(\"Bar Chart Example\")\n",
        "plt.legend()\n",
        "plt.show()"
      ],
      "execution_count": null,
      "outputs": [
        {
          "output_type": "error",
          "ename": "SyntaxError",
          "evalue": "ignored",
          "traceback": [
            "\u001b[0;36m  File \u001b[0;32m\"<ipython-input-91-9a645c32a58d>\"\u001b[0;36m, line \u001b[0;32m12\u001b[0m\n\u001b[0;31m    plt.ylabel(\"bar height\")\u001b[0m\n\u001b[0m      ^\u001b[0m\n\u001b[0;31mSyntaxError\u001b[0m\u001b[0;31m:\u001b[0m invalid syntax\n"
          ]
        }
      ]
    },
    {
      "cell_type": "markdown",
      "metadata": {
        "id": "qnbkcuyJusei"
      },
      "source": [
        "Continent wise population"
      ]
    },
    {
      "cell_type": "code",
      "metadata": {
        "colab": {
          "base_uri": "https://localhost:8080/",
          "height": 312
        },
        "id": "LlEZ1X21uE9X",
        "outputId": "2c489a46-8dec-41b9-a5fb-83a37659607b"
      },
      "source": [
        "plt.bar(data.continent,data.population,label=\"Blue Bar\",color=\"b\")\n",
        "plt.plot()\n",
        "plt.xlabel('Continent')\n",
        "plt.ylabel(\"Population\")\n",
        "plt.title(\"Continent wise population\")"
      ],
      "execution_count": null,
      "outputs": [
        {
          "output_type": "execute_result",
          "data": {
            "text/plain": [
              "<matplotlib.legend.Legend at 0x7f9171400dd0>"
            ]
          },
          "metadata": {
            "tags": []
          },
          "execution_count": 104
        },
        {
          "output_type": "display_data",
          "data": {
            "image/png": "[encoded data removed]",
            "text/plain": [
              "<Figure size 432x288 with 1 Axes>"
            ]
          },
          "metadata": {
            "tags": [],
            "needs_background": "light"
          }
        }
      ]
    },
    {
      "cell_type": "code",
      "metadata": {
        "colab": {
          "base_uri": "https://localhost:8080/",
          "height": 312
        },
        "id": "17gIoTn-um2F",
        "outputId": "caef82ca-25af-4f96-bd08-8b7693ed515d"
      },
      "source": [
        "plt.bar(data.continent,data.total_confirmed,label=\"Blue Bar\",color=\"g\")\n",
        "plt.xlabel('Continent')\n",
        "plt.ylabel(\"Total Confirmed Cases\")\n",
        "plt.title(\"Continent wise confirmed cases\")"
      ],
      "execution_count": null,
      "outputs": [
        {
          "output_type": "execute_result",
          "data": {
            "text/plain": [
              "Text(0.5, 1.0, 'Continent wise confirmed cases')"
            ]
          },
          "metadata": {
            "tags": []
          },
          "execution_count": 106
        },
        {
          "output_type": "display_data",
          "data": {
            "image/png": "[encoded data removed]",
            "text/plain": [
              "<Figure size 432x288 with 1 Axes>"
            ]
          },
          "metadata": {
            "tags": [],
            "needs_background": "light"
          }
        }
      ]
    },
    {
      "cell_type": "code",
      "metadata": {
        "colab": {
          "base_uri": "https://localhost:8080/",
          "height": 312
        },
        "id": "ovATGZHsu-Uc",
        "outputId": "71cfd9f7-d583-49a2-be86-06fdcab1654e"
      },
      "source": [
        "plt.bar(data.continent,data.total_recovered,color=\"r\")\n",
        "plt.xlabel(\"Continent\")\n",
        "plt.ylabel(\"Total Recovered Cases\")\n",
        "plt.title(\"Continent Wise Recovered Cases\")"
      ],
      "execution_count": null,
      "outputs": [
        {
          "output_type": "execute_result",
          "data": {
            "text/plain": [
              "Text(0.5, 1.0, 'Continent Wise Recovered Cases')"
            ]
          },
          "metadata": {
            "tags": []
          },
          "execution_count": 107
        },
        {
          "output_type": "display_data",
          "data": {
            "image/png": "[encoded data removed]",
            "text/plain": [
              "<Figure size 432x288 with 1 Axes>"
            ]
          },
          "metadata": {
            "tags": [],
            "needs_background": "light"
          }
        }
      ]
    },
    {
      "cell_type": "code",
      "metadata": {
        "colab": {
          "base_uri": "https://localhost:8080/",
          "height": 312
        },
        "id": "7kAxDNowvO5k",
        "outputId": "a3ab1458-d383-49c4-c09d-c11b9c5af436"
      },
      "source": [
        "plt.bar(data.continent,data.total_deaths,color=\"purple\")\n",
        "plt.xlabel(\"Continent\")\n",
        "plt.ylabel(\"Total Deaths\")\n",
        "plt.title(\"Continent wise deaths\")"
      ],
      "execution_count": null,
      "outputs": [
        {
          "output_type": "execute_result",
          "data": {
            "text/plain": [
              "Text(0.5, 1.0, 'Continent wise deaths')"
            ]
          },
          "metadata": {
            "tags": []
          },
          "execution_count": 108
        },
        {
          "output_type": "display_data",
          "data": {
            "image/png": "[encoded data removed]",
            "text/plain": [
              "<Figure size 432x288 with 1 Axes>"
            ]
          },
          "metadata": {
            "tags": [],
            "needs_background": "light"
          }
        }
      ]
    },
    {
      "cell_type": "code",
      "metadata": {
        "colab": {
          "base_uri": "https://localhost:8080/",
          "height": 312
        },
        "id": "5J4Nl3VHvfOI",
        "outputId": "806ba725-0f96-4426-e5a4-45f75b7e3b8b"
      },
      "source": [
        "plt.bar(data.continent,data.total_tests,color=\"indigo\")\n",
        "plt.xlabel(\"Continent\")\n",
        "plt.ylabel(\"Total Tests\")\n",
        "plt.title(\"Continent wise tests\")"
      ],
      "execution_count": null,
      "outputs": [
        {
          "output_type": "execute_result",
          "data": {
            "text/plain": [
              "Text(0.5, 1.0, 'Continent wise tests')"
            ]
          },
          "metadata": {
            "tags": []
          },
          "execution_count": 109
        },
        {
          "output_type": "display_data",
          "data": {
            "image/png": "[encoded data removed]",
            "text/plain": [
              "<Figure size 432x288 with 1 Axes>"
            ]
          },
          "metadata": {
            "tags": [],
            "needs_background": "light"
          }
        }
      ]
    },
    {
      "cell_type": "code",
      "metadata": {
        "id": "RuDehcwMv5xs"
      },
      "source": [
        ""
      ],
      "execution_count": null,
      "outputs": []
    }
  ]
}